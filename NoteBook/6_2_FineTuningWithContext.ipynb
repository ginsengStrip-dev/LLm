{
 "cells": [
  {
   "cell_type": "code",
   "execution_count": 1,
   "id": "14a58f21",
   "metadata": {},
   "outputs": [],
   "source": [
    "import json\n",
    "\n",
    "file_path = \"../data/chat_finetune.json\"\n",
    "with open(file_path, \"r\") as file:\n",
    "    data = json.load(file)"
   ]
  },
  {
   "cell_type": "code",
   "execution_count": 2,
   "id": "c6da3ece",
   "metadata": {},
   "outputs": [],
   "source": [
    "import sys\n",
    "sys.path.append('..')"
   ]
  },
  {
   "cell_type": "code",
   "execution_count": 3,
   "id": "6922a61a",
   "metadata": {},
   "outputs": [],
   "source": [
    "from minbpe import RegexTokenizer\n",
    "\n",
    "tokenizer = RegexTokenizer()\n",
    "tokenizer.load(model_file=\"../Data/tokenizer/my_tokenizer.model\")\n",
    "\n",
    "\n",
    "def get_vocab_size(tokenizer: RegexTokenizer) -> int:\n",
    "    vocab = tokenizer.vocab\n",
    "    special_tokens = tokenizer.special_tokens\n",
    "\n",
    "    return len(vocab) + len(special_tokens)"
   ]
  },
  {
   "cell_type": "code",
   "execution_count": 4,
   "id": "b102d274",
   "metadata": {},
   "outputs": [
    {
     "data": {
      "text/plain": [
       "21"
      ]
     },
     "execution_count": 4,
     "metadata": {},
     "output_type": "execute_result"
    }
   ],
   "source": [
    "tokenized_data = []\n",
    "for item in data:\n",
    "    tokenized_item = tokenizer.encode(item, allowed_special=\"all\")\n",
    "    tokenized_data.append(tokenized_item)\n",
    "\n",
    "len(tokenized_data[0])"
   ]
  },
  {
   "cell_type": "code",
   "execution_count": 5,
   "id": "c211de1d",
   "metadata": {},
   "outputs": [
    {
     "name": "stdout",
     "output_type": "stream",
     "text": [
      "Training set: \n",
      "Start message: <|startoftext|>You \n",
      "End message: <|startoftext|>Assistant \n",
      "\n",
      "Validation set: \n",
      "Start message: <|startoftext|>You \n",
      "End message: <|startoftext|>Assistant \n"
     ]
    }
   ],
   "source": [
    "initial_split_index = int(0.95 * len(data))\n",
    "\n",
    "# Adjusting the index to ensure that the training set ends with \"Assistant\" message\n",
    "# and that the validation set starts with \"You\" message\n",
    "\n",
    "# Scanning backward to find an Assistant message\n",
    "split_index = initial_split_index\n",
    "while split_index > 0 and not data[split_index-1].startswith('<|startoftext|>Assistant'):\n",
    "    split_index -= 1\n",
    "\n",
    "train_data = data[:split_index]\n",
    "val_data = data[split_index:]\n",
    "\n",
    "print(\"Training set: \")\n",
    "print(f\"Start message: {train_data[0].split('<|separator|>')[0]}\")\n",
    "print(f\"End message: {train_data[-1].split('<|separator|>')[0]}\")\n",
    "\n",
    "print(\"\\nValidation set: \")\n",
    "print(f\"Start message: {val_data[0].split('<|separator|>')[0]}\")\n",
    "print(f\"End message: {val_data[-1].split('<|separator|>')[0]}\")"
   ]
  },
  {
   "cell_type": "code",
   "execution_count": 7,
   "id": "473957f9",
   "metadata": {},
   "outputs": [],
   "source": [
    "train_data = tokenized_data[:split_index]\n",
    "val_data = tokenized_data[split_index:]"
   ]
  },
  {
   "cell_type": "code",
   "execution_count": 8,
   "id": "12ca8a59",
   "metadata": {},
   "outputs": [],
   "source": [
    "block_size = 256\n",
    "\n",
    "\n",
    "def combine_turns(data: list[list[int]], should_trim_long_sequences: bool) -> list[list[int]]:\n",
    "    combined_turns_data = []\n",
    "    for i in range(0, len(data)-1, 2):\n",
    "        you_message = data[i]\n",
    "        assistant_message = data[i+1]\n",
    "        if not you_message or not assistant_message:\n",
    "            continue\n",
    "\n",
    "        final_message = you_message + assistant_message\n",
    "        if len(final_message) > block_size and should_trim_long_sequences:\n",
    "            final_message = final_message[-block_size:]\n",
    "\n",
    "        combined_turns_data.append(final_message)\n",
    "    return combined_turns_data\n",
    "\n",
    "\n",
    "combined_train_data = combine_turns(\n",
    "    data=train_data,\n",
    "    should_trim_long_sequences=True\n",
    ")\n",
    "combined_val_data = combine_turns(\n",
    "    data=val_data,\n",
    "    should_trim_long_sequences=True\n",
    ")"
   ]
  },
  {
   "cell_type": "code",
   "execution_count": 9,
   "id": "1333aa07",
   "metadata": {},
   "outputs": [
    {
     "name": "stdout",
     "output_type": "stream",
     "text": [
      "Train data\n",
      "Length before: 3650\n",
      "Length after: 1825\n",
      "\n",
      "Validation data\n",
      "Length before: 194\n",
      "Length after: 97\n"
     ]
    }
   ],
   "source": [
    "print(\"Train data\")\n",
    "print(f\"Length before: {len(train_data)}\")\n",
    "print(f\"Length after: {len(combined_train_data)}\")\n",
    "\n",
    "print(\"\\nValidation data\")\n",
    "print(f\"Length before: {len(val_data)}\")\n",
    "print(f\"Length after: {len(combined_val_data)}\")"
   ]
  },
  {
   "cell_type": "code",
   "execution_count": 10,
   "id": "3a323b3c",
   "metadata": {},
   "outputs": [],
   "source": [
    "def merge_conversation_turns(combined_data: list[list[int]], block_size: int) -> list[list[int]]:\n",
    "    new_data = []\n",
    "    current_sequence = []\n",
    "\n",
    "    for sequence in combined_data:\n",
    "        if len(current_sequence) + len(sequence) <= block_size:\n",
    "            current_sequence.extend(sequence)\n",
    "        else:\n",
    "            if current_sequence:\n",
    "                new_data.append(current_sequence)\n",
    "            current_sequence = sequence.copy()\n",
    "\n",
    "    # Add the last block if it's not empty\n",
    "    if current_sequence:\n",
    "        new_data.append(current_sequence)\n",
    "\n",
    "    return new_data\n",
    "\n",
    "\n",
    "merged_train_data = merge_conversation_turns(\n",
    "    combined_data=combined_train_data,\n",
    "    block_size=block_size\n",
    ")\n",
    "merged_val_data = merge_conversation_turns(\n",
    "    combined_data=combined_val_data,\n",
    "    block_size=block_size\n",
    ")"
   ]
  },
  {
   "cell_type": "code",
   "execution_count": 11,
   "id": "9b774af4",
   "metadata": {},
   "outputs": [
    {
     "data": {
      "text/plain": [
       "(1825, 428)"
      ]
     },
     "execution_count": 11,
     "metadata": {},
     "output_type": "execute_result"
    }
   ],
   "source": [
    "len(combined_train_data), len(merged_train_data)"
   ]
  },
  {
   "cell_type": "code",
   "execution_count": 12,
   "id": "78b0addb",
   "metadata": {},
   "outputs": [
    {
     "data": {
      "text/plain": [
       "(1825, 428)"
      ]
     },
     "execution_count": 12,
     "metadata": {},
     "output_type": "execute_result"
    }
   ],
   "source": [
    "len(combined_train_data), len(merged_train_data)"
   ]
  },
  {
   "cell_type": "code",
   "execution_count": 13,
   "id": "c3f4f3a4",
   "metadata": {},
   "outputs": [
    {
     "data": {
      "text/plain": [
       "(torch.Size([428, 256]), torch.Size([25, 256]))"
      ]
     },
     "execution_count": 13,
     "metadata": {},
     "output_type": "execute_result"
    }
   ],
   "source": [
    "import torch\n",
    "torch.manual_seed(3647)\n",
    "\n",
    "# The token `<|padding|>` is used to mask the padding tokens.\n",
    "# Masking means the model will ignore these tokens during training.\n",
    "# In other words, the loss will not be calculated for these tokens.\n",
    "padding_token = tokenizer.special_tokens[\"<|padding|>\"]\n",
    "\n",
    "\n",
    "def apply_padding_to_data(data: list[list[int]], block_size: int, padding_token: int) -> torch.Tensor:\n",
    "    tensors = []\n",
    "    for i in range(len(data)):\n",
    "        tensor = torch.tensor(data[i])\n",
    "        padded_tensor = torch.nn.functional.pad(\n",
    "            input=tensor,\n",
    "            # for right padding:\n",
    "            pad=(0, block_size - len(tensor)),\n",
    "            # pad=(block_size - len(tensor), 0),\n",
    "            value=padding_token\n",
    "        )\n",
    "        tensors.append(padded_tensor)\n",
    "\n",
    "    return torch.stack(tensors)\n",
    "\n",
    "\n",
    "train_data_tensor = apply_padding_to_data(\n",
    "    data=merged_train_data,\n",
    "    block_size=block_size,\n",
    "    padding_token=padding_token\n",
    ")\n",
    "val_data_tensor = apply_padding_to_data(\n",
    "    data=merged_val_data,\n",
    "    block_size=block_size,\n",
    "    padding_token=padding_token\n",
    ")\n",
    "\n",
    "train_data_tensor.shape, val_data_tensor.shape"
   ]
  },
  {
   "cell_type": "code",
   "execution_count": 14,
   "id": "a1727d7c",
   "metadata": {},
   "outputs": [
    {
     "data": {
      "text/plain": [
       "tensor([2492,   89,  260,   32, 2493,   32,  462,   44,   32,  104,  293,   32,\n",
       "         280,  101,   32,  266,   32,  345,  279,   63, 2494, 2492,   65,  115,\n",
       "         581,  304, 1167,   32, 2493,   32,  105,   39,  109,   32,  835,  101,\n",
       "          46,   32,  104,  293,   32,  343,  765,   32, 1759,   63, 2494, 2492,\n",
       "          89,  260,   32, 2493,   32,  105,   39,  109,   32,  780,  121,   32,\n",
       "        1169,   46,   32, 1212,  115,   32,  324,   32, 1371,  279,   46, 2494,\n",
       "        2492,   65,  115,  581,  304, 1167,   32, 2493,   32,  315,   32,  894,\n",
       "          46,   32,  506,   32,  104,  293,   32,  606,  101,   32,  266,   32,\n",
       "         351,  281,   63, 2494, 2492,   89,  260,   32, 2493,   32,  105,   39,\n",
       "        1453,   32,  351,  281,   32, 1210,   46,   32,  869,   32,  343,  765,\n",
       "          32,  266,   63, 2494, 2492,   65,  115,  581,  304, 1167,   32, 2493,\n",
       "          32,  105,   39, 1453,   32,  351,  281,   32, 1169,   46,   32,  105,\n",
       "          39,  109,   32,  262,   32,  708,   32,  636,  116,   32, 1011,   46,\n",
       "        2494, 2492,   89,  260,   32, 2493,   32,  869,   32,  708,   32,  345,\n",
       "          32,  266,   32,  329,   32,  363,   63, 2494, 2492,   65,  115,  581,\n",
       "         304, 1167,   32, 2493,   32,  105,   32,  329,   32,  363,   32, 2296,\n",
       "          99,   46, 2494, 2492,   89,  260,   32, 2493,   32,  345,   32,  266,\n",
       "          32,  787,  101,   32,  286,   32, 2473,   63, 2494, 2492,   65,  115,\n",
       "         581,  304, 1167,   32, 2493,   32,  286,   39,  115,   32,  544,   46,\n",
       "          32,  286,   39,  115,   32,   97,   32,  840,  121,   32, 1672,   32,\n",
       "         373,  109,  112,  326,   46, 2494, 2496, 2496, 2496, 2496, 2496, 2496,\n",
       "        2496, 2496, 2496, 2496])"
      ]
     },
     "execution_count": 14,
     "metadata": {},
     "output_type": "execute_result"
    }
   ],
   "source": [
    "train_data_tensor[0]"
   ]
  },
  {
   "cell_type": "code",
   "execution_count": 15,
   "id": "48cfd82d",
   "metadata": {},
   "outputs": [
    {
     "data": {
      "text/plain": [
       "tensor([2492,   89,  260,   32, 2493,   32, 1864,   32,  497,  323,  116,   32,\n",
       "         407,  116,   32,  363,   32, 1639,   32,  266,   32,  111,  676,   46,\n",
       "        2494, 2492,   65,  115,  581,  304, 1167,   32, 2493,   32, 1864,   32,\n",
       "         497,  323,  116,   32,  740,   32,  105,   39,  109,   32,  544,   46,\n",
       "        2494, 2492,   89,  260,   32, 2493,   32, 1864,   32,  497,  323,  116,\n",
       "          32,  740,   32,  266,   32,  606,  101,   32,   98,  271,  101,   32,\n",
       "         482, 1618,   46, 2494, 2492,   89,  260,   32, 2493,   32,  869,   32,\n",
       "        1250,   32,  311,   32, 1155,   32,  740,   63, 2494, 2492,   65,  115,\n",
       "         581,  304, 1167,   32, 2493,   32, 1864,   32, 1825,  115,   32,  105,\n",
       "          32,  606,  101,   32,  465,   32, 1660,   32,  304,  592,  115,   46,\n",
       "        2494, 2492,   89,  260,   32, 2493,   32,  304,  592,  115,   32,  373,\n",
       "         326,  283,   32, 1482,   32, 1411, 1065,  276,  301,  283,   63, 2494,\n",
       "        2492,   65,  115,  581,  304, 1167,   32, 2493,   32,  304,  592,  115,\n",
       "          32,  373,  326,  283,   32,  871,  737,   32,  894,  115,   32, 1267,\n",
       "          32,  871,  737,   32,  479,  101,   46, 2494, 2492,   89,  260,   32,\n",
       "        2493,   32,  506,   32,  869,   32, 1250,   32, 1864,   32, 1408,   32,\n",
       "         266,   32,  363,   32,  345,   63, 2494, 2492,   65,  115,  581,  304,\n",
       "        1167,   32, 2493,   32, 1864,   32,  398,  453,   32,  105,   32,  320,\n",
       "        1310,   32,  363,   32, 1825,   32,  922, 2211, 1453,   46, 2494, 2492,\n",
       "          89,  260,   32, 2493,   32, 1864,   32, 1250,  110,   39,  116,   32,\n",
       "         534, 1453,   32,  266,   32,  615,   32, 1413,  373,  578,   63, 2494,\n",
       "        2496, 2496, 2496, 2496])"
      ]
     },
     "execution_count": 15,
     "metadata": {},
     "output_type": "execute_result"
    }
   ],
   "source": [
    "val_data_tensor[0]"
   ]
  },
  {
   "cell_type": "code",
   "execution_count": 16,
   "id": "b1ece229",
   "metadata": {},
   "outputs": [],
   "source": [
    "from typing import Tuple\n",
    "from torch.utils.data import Dataset, DataLoader\n",
    "\n",
    "\n",
    "class FineTuningDataset(Dataset):\n",
    "    def __init__(self, data: torch.Tensor, device: torch.device, padding_token: int):\n",
    "        self.data = data  # shape: (num_samples, block_size)\n",
    "        self.device = device\n",
    "        self.padding_token = padding_token\n",
    "\n",
    "    def __len__(self) -> int:\n",
    "        return len(self.data)\n",
    "\n",
    "    def __getitem__(self, index: int) -> Tuple[torch.Tensor, torch.Tensor]:\n",
    "        sample = self.data[index]\n",
    "        x = sample.to(self.device)\n",
    "        y = sample[1:].to(self.device)\n",
    "        padding_tensor = torch.tensor([self.padding_token], device=self.device)\n",
    "        y = torch.cat((y, padding_tensor))\n",
    "        return x, y\n",
    "\n",
    "\n",
    "batch_size = 32\n",
    "device = torch.device(\"cuda\" if torch.cuda.is_available() else \"cpu\")\n",
    "\n",
    "train_dataset = FineTuningDataset(\n",
    "    data=train_data_tensor,\n",
    "    device=device,\n",
    "    padding_token=padding_token\n",
    ")\n",
    "train_loader = DataLoader(\n",
    "    dataset=train_dataset,\n",
    "    batch_size=batch_size,\n",
    "    shuffle=True\n",
    ")\n",
    "\n",
    "val_dataset = FineTuningDataset(\n",
    "    data=val_data_tensor,\n",
    "    device=device,\n",
    "    padding_token=padding_token\n",
    ")\n",
    "val_loader = DataLoader(\n",
    "    dataset=val_dataset,\n",
    "    batch_size=batch_size,\n",
    "    shuffle=False\n",
    ")"
   ]
  },
  {
   "cell_type": "code",
   "execution_count": 17,
   "id": "a3afcb7e",
   "metadata": {},
   "outputs": [
    {
     "data": {
      "text/plain": [
       "(torch.Size([32, 256]), torch.Size([32, 256]))"
      ]
     },
     "execution_count": 17,
     "metadata": {},
     "output_type": "execute_result"
    }
   ],
   "source": [
    "x, y = next(iter(train_loader))\n",
    "x.shape, y.shape"
   ]
  },
  {
   "cell_type": "code",
   "execution_count": 18,
   "id": "723615be",
   "metadata": {},
   "outputs": [
    {
     "name": "stdout",
     "output_type": "stream",
     "text": [
      "0.906694 M parameters\n"
     ]
    }
   ],
   "source": [
    "from transformer.model import GPTLanguageModel\n",
    "\n",
    "block_size = 512\n",
    "n_embd = 128\n",
    "n_head = 8\n",
    "n_layer = 1\n",
    "dropout = 0.2\n",
    "batch_size = 32\n",
    "vocab_size = get_vocab_size(tokenizer)\n",
    "\n",
    "model = GPTLanguageModel(\n",
    "    vocab_size=vocab_size,\n",
    "    block_size=block_size,\n",
    "    n_embd=n_embd,\n",
    "    n_head=n_head,\n",
    "    n_layer=n_layer,\n",
    "    dropout=dropout,\n",
    "    device=device,\n",
    "    ignore_index=tokenizer.special_tokens[\"<|padding|>\"],\n",
    ").to(device)\n",
    "model = torch.compile(model)\n",
    "\n",
    "print(sum(p.numel() for p in model.parameters())/1e6, 'M parameters')"
   ]
  },
  {
   "cell_type": "code",
   "execution_count": 21,
   "id": "7e6e5760",
   "metadata": {},
   "outputs": [
    {
     "data": {
      "text/plain": [
       "<All keys matched successfully>"
      ]
     },
     "execution_count": 21,
     "metadata": {},
     "output_type": "execute_result"
    }
   ],
   "source": [
    "checkpoint_path = \"../Data/pre_training/run_1/checkpoint_2.pth\"\n",
    "checkpoint = torch.load(checkpoint_path, weights_only=True)\n",
    "model_state_dict = checkpoint[\"model_state_dict\"]\n",
    "model.load_state_dict(model_state_dict)"
   ]
  },
  {
   "cell_type": "code",
   "execution_count": 22,
   "id": "8cc07add",
   "metadata": {},
   "outputs": [
    {
     "name": "stdout",
     "output_type": "stream",
     "text": [
      "hi renow neither do that. whe.\" did it happens when a puppy. n. and it's not even in heaves. then what? of it. you or two l. whiof it. he comes day. rain? for the bse of ur gookay, my launhappy together. i don't think about it\u0003two and say? i believe order is the score. the worse back uphere it going to be a car isn't our students to graduate. but we could <|unk|>d. hp kniell, need a t. well, you can't win if you \n"
     ]
    }
   ],
   "source": [
    "input_tokens = tokenizer.encode(\"hi \", allowed_special=\"all\")\n",
    "input_tokens = torch.tensor(\n",
    "    input_tokens, dtype=torch.long).unsqueeze(0).to(device)\n",
    "\n",
    "model.eval()\n",
    "with torch.no_grad():\n",
    "    output = model.generate(input_tokens=input_tokens, max_new_tokens=100)\n",
    "\n",
    "print(tokenizer.decode(output[0].tolist()))"
   ]
  },
  {
   "cell_type": "code",
   "execution_count": 23,
   "id": "abaab590",
   "metadata": {},
   "outputs": [],
   "source": [
    "from typing import Dict\n",
    "\n",
    "\n",
    "@torch.no_grad()\n",
    "def estimate_loss(\n",
    "    model: torch.nn.Module,\n",
    "    train_loader: DataLoader,\n",
    "    val_loader: DataLoader,\n",
    ") -> Dict[str, float]:\n",
    "    output = {}\n",
    "    model.eval()\n",
    "\n",
    "    for split, loader in [('train', train_loader), ('val', val_loader)]:\n",
    "        losses = []\n",
    "        for x, y in loader:\n",
    "            with torch.no_grad():\n",
    "                _, loss = model(x, y)\n",
    "            losses.append(loss.item())\n",
    "        output[split] = sum(losses) / len(losses)\n",
    "\n",
    "    model.train()\n",
    "    return output"
   ]
  },
  {
   "cell_type": "code",
   "execution_count": 24,
   "id": "a72af738",
   "metadata": {},
   "outputs": [],
   "source": [
    "def save_checkpoint(\n",
    "    model: GPTLanguageModel,\n",
    "    optimizer: torch.optim.Optimizer,\n",
    "    epoch: int,\n",
    "    loss: float,\n",
    "    file_path: str = \"checkpoint.pth\"\n",
    ") -> None:\n",
    "    checkpoint = {\n",
    "        'epoch': epoch,\n",
    "        'model_state_dict': model.state_dict(),\n",
    "        'optimizer_state_dict': optimizer.state_dict(),\n",
    "        'loss': loss\n",
    "    }\n",
    "    torch.save(checkpoint, file_path)"
   ]
  },
  {
   "cell_type": "code",
   "execution_count": 27,
   "id": "f3d1781f",
   "metadata": {},
   "outputs": [],
   "source": [
    "import os\n",
    "import warnings\n",
    "\n",
    "# --- Disable Triton checks ---\n",
    "os.environ[\"TORCHINDUCTOR_DISABLE_TRITON\"] = \"1\"\n",
    "\n",
    "# --- Suppress TorchDynamo / Inductor warnings ---\n",
    "warnings.filterwarnings(\"ignore\", category=UserWarning)\n",
    "\n",
    "# Optional: fully disable TorchDynamo verbose logging\n",
    "import torch._dynamo as dynamo\n",
    "dynamo.reset()\n",
    "dynamo.config.verbose = 0\n",
    "dynamo.config.suppress_errors = True"
   ]
  },
  {
   "cell_type": "code",
   "execution_count": 29,
   "id": "05af06ce",
   "metadata": {},
   "outputs": [
    {
     "name": "stdout",
     "output_type": "stream",
     "text": [
      "iteration 0 / step 0: train loss 4.4184, val loss 4.5696\n",
      "iteration 0 / step 5: train loss 4.0559, val loss 4.2264\n",
      "iteration 0 / step 10: train loss 3.8583, val loss 4.0268\n",
      "iteration 0 / step 13: train loss 3.7477, val loss 3.9151\n",
      "iteration 1 / step 0: train loss 3.7161, val loss 3.8827\n",
      "iteration 1 / step 5: train loss 3.5867, val loss 3.7633\n",
      "iteration 1 / step 10: train loss 3.4852, val loss 3.6603\n",
      "iteration 1 / step 13: train loss 3.4187, val loss 3.6048\n",
      "iteration 2 / step 0: train loss 3.4073, val loss 3.5878\n",
      "iteration 2 / step 5: train loss 3.3274, val loss 3.5203\n",
      "iteration 2 / step 10: train loss 3.2579, val loss 3.4605\n",
      "iteration 2 / step 13: train loss 3.2134, val loss 3.4175\n",
      "iteration 3 / step 0: train loss 3.1981, val loss 3.4036\n",
      "iteration 3 / step 5: train loss 3.1455, val loss 3.3558\n",
      "iteration 3 / step 10: train loss 3.0854, val loss 3.3063\n",
      "iteration 3 / step 13: train loss 3.0525, val loss 3.2768\n",
      "iteration 4 / step 0: train loss 3.0461, val loss 3.2694\n",
      "iteration 4 / step 5: train loss 2.9892, val loss 3.2213\n",
      "iteration 4 / step 10: train loss 2.9499, val loss 3.1851\n",
      "iteration 4 / step 13: train loss 2.9183, val loss 3.1637\n",
      "iteration 5 / step 0: train loss 2.9077, val loss 3.1540\n",
      "iteration 5 / step 5: train loss 2.8678, val loss 3.1100\n",
      "iteration 5 / step 10: train loss 2.8281, val loss 3.0787\n",
      "iteration 5 / step 13: train loss 2.8057, val loss 3.0591\n",
      "iteration 6 / step 0: train loss 2.7947, val loss 3.0456\n",
      "iteration 6 / step 5: train loss 2.7588, val loss 3.0134\n",
      "iteration 6 / step 10: train loss 2.7181, val loss 2.9818\n",
      "iteration 6 / step 13: train loss 2.6960, val loss 2.9637\n",
      "iteration 7 / step 0: train loss 2.6913, val loss 2.9598\n",
      "iteration 7 / step 5: train loss 2.6480, val loss 2.9203\n",
      "iteration 7 / step 10: train loss 2.6182, val loss 2.8970\n",
      "iteration 7 / step 13: train loss 2.5914, val loss 2.8709\n",
      "iteration 8 / step 0: train loss 2.5905, val loss 2.8694\n",
      "iteration 8 / step 5: train loss 2.5473, val loss 2.8369\n",
      "iteration 8 / step 10: train loss 2.5242, val loss 2.8161\n",
      "iteration 8 / step 13: train loss 2.4947, val loss 2.7911\n",
      "iteration 9 / step 0: train loss 2.4860, val loss 2.7826\n",
      "iteration 9 / step 5: train loss 2.4700, val loss 2.7678\n",
      "iteration 9 / step 10: train loss 2.4310, val loss 2.7377\n",
      "iteration 9 / step 13: train loss 2.4216, val loss 2.7305\n",
      "iteration 10 / step 0: train loss 2.4018, val loss 2.7185\n",
      "iteration 10 / step 5: train loss 2.3832, val loss 2.6973\n",
      "iteration 10 / step 10: train loss 2.3614, val loss 2.6816\n",
      "iteration 10 / step 13: train loss 2.3461, val loss 2.6675\n",
      "iteration 11 / step 0: train loss 2.3368, val loss 2.6581\n",
      "iteration 11 / step 5: train loss 2.3120, val loss 2.6373\n",
      "iteration 11 / step 10: train loss 2.2965, val loss 2.6235\n",
      "iteration 11 / step 13: train loss 2.2784, val loss 2.6137\n",
      "iteration 12 / step 0: train loss 2.2580, val loss 2.5953\n",
      "iteration 12 / step 5: train loss 2.2439, val loss 2.5822\n",
      "iteration 12 / step 10: train loss 2.2170, val loss 2.5585\n",
      "iteration 12 / step 13: train loss 2.2103, val loss 2.5538\n",
      "iteration 13 / step 0: train loss 2.2016, val loss 2.5456\n",
      "iteration 13 / step 5: train loss 2.1873, val loss 2.5360\n",
      "iteration 13 / step 10: train loss 2.1691, val loss 2.5190\n",
      "iteration 13 / step 13: train loss 2.1540, val loss 2.5066\n",
      "iteration 14 / step 0: train loss 2.1472, val loss 2.5034\n",
      "iteration 14 / step 5: train loss 2.1204, val loss 2.4875\n",
      "iteration 14 / step 10: train loss 2.1160, val loss 2.4785\n",
      "iteration 14 / step 13: train loss 2.0990, val loss 2.4711\n",
      "iteration 15 / step 0: train loss 2.0902, val loss 2.4640\n",
      "iteration 15 / step 5: train loss 2.0772, val loss 2.4562\n",
      "iteration 15 / step 10: train loss 2.0622, val loss 2.4417\n",
      "iteration 15 / step 13: train loss 2.0496, val loss 2.4329\n",
      "iteration 16 / step 0: train loss 2.0571, val loss 2.4388\n",
      "iteration 16 / step 5: train loss 2.0519, val loss 2.4369\n",
      "iteration 16 / step 10: train loss 2.0343, val loss 2.4211\n",
      "iteration 16 / step 13: train loss 2.0117, val loss 2.4020\n",
      "iteration 17 / step 0: train loss 2.0035, val loss 2.3952\n",
      "iteration 17 / step 5: train loss 2.0002, val loss 2.3981\n",
      "iteration 17 / step 10: train loss 1.9764, val loss 2.3853\n",
      "iteration 17 / step 13: train loss 1.9789, val loss 2.3834\n",
      "iteration 18 / step 0: train loss 1.9670, val loss 2.3714\n",
      "iteration 18 / step 5: train loss 1.9678, val loss 2.3776\n",
      "iteration 18 / step 10: train loss 1.9485, val loss 2.3619\n",
      "iteration 18 / step 13: train loss 1.9402, val loss 2.3522\n",
      "iteration 19 / step 0: train loss 1.9394, val loss 2.3559\n",
      "iteration 19 / step 5: train loss 1.9210, val loss 2.3437\n",
      "iteration 19 / step 10: train loss 1.9173, val loss 2.3404\n",
      "iteration 19 / step 13: train loss 1.9089, val loss 2.3361\n"
     ]
    }
   ],
   "source": [
    "max_iters = 20\n",
    "eval_interval = 5\n",
    "learning_rate = 1e-4\n",
    "\n",
    "optimizer = torch.optim.AdamW(model.parameters(), lr=learning_rate)\n",
    "train_losses = []\n",
    "val_losses = []\n",
    "\n",
    "for iteration in range(max_iters):\n",
    "    for batch_idx, (x_batch, y_batch) in enumerate(train_loader):\n",
    "        # Evaluation\n",
    "        if batch_idx % eval_interval == 0 or batch_idx == len(train_loader) - 1:\n",
    "            losses = estimate_loss(\n",
    "                model=model,\n",
    "                train_loader=train_loader,\n",
    "                val_loader=val_loader,\n",
    "            )\n",
    "            train_losses.append(losses['train'])\n",
    "            val_losses.append(losses['val'])\n",
    "\n",
    "            print(\n",
    "                f\"iteration {iteration} / step {batch_idx}: \"\n",
    "                f\"train loss {losses['train']:.4f}, \"\n",
    "                f\"val loss {losses['val']:.4f}\"\n",
    "            )\n",
    "\n",
    "        # Training step\n",
    "        logits, loss = model(x_batch, y_batch)\n",
    "        optimizer.zero_grad(set_to_none=True)\n",
    "        loss.backward()\n",
    "        optimizer.step()\n",
    "\n",
    "    # Save checkpoint\n",
    "    save_checkpoint(\n",
    "        model=model,\n",
    "        optimizer=optimizer,\n",
    "        epoch=iteration,\n",
    "        loss=loss.item(),\n",
    "        file_path=f\"../Data/fine_tuning/run_3/checkpoint_{iteration}.pth\"\n",
    "    )"
   ]
  },
  {
   "cell_type": "code",
   "execution_count": 30,
   "id": "e2fd8331",
   "metadata": {},
   "outputs": [
    {
     "data": {
      "image/png": "[encoded data removed]",
      "text/plain": [
       "<Figure size 1000x500 with 1 Axes>"
      ]
     },
     "metadata": {},
     "output_type": "display_data"
    }
   ],
   "source": [
    "import matplotlib.pyplot as plt\n",
    "\n",
    "plt.figure(figsize=(10, 5))\n",
    "plt.plot(train_losses, label=\"Train Loss\")\n",
    "plt.plot(val_losses, label=\"Validation Loss\")\n",
    "plt.xlabel(\"Evaluation Step\")\n",
    "plt.ylabel(\"Loss\")\n",
    "plt.title(\"Training and Validation Loss Over Time\")\n",
    "plt.legend()\n",
    "plt.grid()\n",
    "plt.show()"
   ]
  },
  {
   "cell_type": "code",
   "execution_count": 41,
   "id": "e61f5eec",
   "metadata": {},
   "outputs": [
    {
     "name": "stdout",
     "output_type": "stream",
     "text": [
      "You: what school do you go to? \n",
      "Assistant:  and doctor.hood back and a changes juds tomorrow.\n"
     ]
    }
   ],
   "source": [
    "def get_input_tokens(message: str) -> torch.Tensor:\n",
    "    input_tokens = tokenizer.encode(\n",
    "        f\"<|startoftext|>{message}<|separator|>\", allowed_special=\"all\")\n",
    "    input_tokens = torch.tensor(\n",
    "        input_tokens, dtype=torch.long).unsqueeze(0).to(device)\n",
    "    return input_tokens\n",
    "\n",
    "\n",
    "user_message = \"what school do you go to? \"\n",
    "input_tokens = get_input_tokens(message=user_message)\n",
    "model_answer = \"\"\n",
    "\n",
    "model.eval()\n",
    "while True:\n",
    "    output_tokens = model.generate(input_tokens=input_tokens, max_new_tokens=1)\n",
    "    last_generated_token = output_tokens[0, -1].item()\n",
    "    if last_generated_token == tokenizer.special_tokens[\"<|endoftext|>\"]:\n",
    "        break\n",
    "\n",
    "    input_tokens = torch.cat((input_tokens, output_tokens[:, -1:]), dim=1)\n",
    "    model_answer += tokenizer.decode([last_generated_token])\n",
    "\n",
    "    if len(output_tokens[0]) > block_size:\n",
    "        break\n",
    "\n",
    "print(f\"You: {user_message}\")\n",
    "print(f\"Assistant: {model_answer}\")"
   ]
  }
 ],
 "metadata": {
  "kernelspec": {
   "display_name": "Python 3",
   "language": "python",
   "name": "python3"
  },
  "language_info": {
   "codemirror_mode": {
    "name": "ipython",
    "version": 3
   },
   "file_extension": ".py",
   "mimetype": "text/x-python",
   "name": "python",
   "nbconvert_exporter": "python",
   "pygments_lexer": "ipython3",
   "version": "3.10.0"
  }
 },
 "nbformat": 4,
 "nbformat_minor": 5
}
