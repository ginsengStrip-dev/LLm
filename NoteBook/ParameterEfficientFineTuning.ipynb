{
 "cells": [
  {
   "cell_type": "code",
   "execution_count": 2,
   "id": "261f4891",
   "metadata": {},
   "outputs": [],
   "source": [
    "import json\n",
    "\n",
    "file_path = \"../Data/Chat_finetune.json\"\n",
    "with open(file_path, \"r\") as file:\n",
    "    data = json.load(file)"
   ]
  },
  {
   "cell_type": "code",
   "execution_count": 3,
   "id": "e7d1ee1a",
   "metadata": {},
   "outputs": [],
   "source": [
    "import sys\n",
    "sys.path.append('..')"
   ]
  },
  {
   "cell_type": "code",
   "execution_count": 4,
   "id": "64285c04",
   "metadata": {},
   "outputs": [],
   "source": [
    "from minbpe import RegexTokenizer\n",
    "\n",
    "tokenizer = RegexTokenizer()\n",
    "tokenizer.load(model_file=\"../Data/tokenizer/my_tokenizer.model\")\n",
    "\n",
    "\n",
    "def get_vocab_size(tokenizer: RegexTokenizer) -> int:\n",
    "    vocab = tokenizer.vocab\n",
    "    special_tokens = tokenizer.special_tokens\n",
    "\n",
    "    return len(vocab) + len(special_tokens)"
   ]
  },
  {
   "cell_type": "code",
   "execution_count": 5,
   "id": "c677aa24",
   "metadata": {},
   "outputs": [
    {
     "data": {
      "text/plain": [
       "21"
      ]
     },
     "execution_count": 5,
     "metadata": {},
     "output_type": "execute_result"
    }
   ],
   "source": [
    "tokenized_data = []\n",
    "for item in data:\n",
    "    tokenized_item = tokenizer.encode(item, allowed_special=\"all\")\n",
    "    tokenized_data.append(tokenized_item)\n",
    "\n",
    "len(tokenized_data[0])"
   ]
  },
  {
   "cell_type": "code",
   "execution_count": 6,
   "id": "009fa982",
   "metadata": {},
   "outputs": [
    {
     "name": "stdout",
     "output_type": "stream",
     "text": [
      "Training set: \n",
      "Start message: <|startoftext|>You \n",
      "End message: <|startoftext|>Assistant \n",
      "\n",
      "Validation set: \n",
      "Start message: <|startoftext|>You \n",
      "End message: <|startoftext|>Assistant \n"
     ]
    }
   ],
   "source": [
    "initial_split_index = int(0.95 * len(data))\n",
    "\n",
    "# Adjusting the index to ensure that the training set ends with \"Assistant\" message\n",
    "# and that the validation set starts with \"You\" message\n",
    "\n",
    "# Scanning backward to find an Assistant message\n",
    "split_index = initial_split_index\n",
    "while split_index > 0 and not data[split_index-1].startswith('<|startoftext|>Assistant'):\n",
    "    split_index -= 1\n",
    "\n",
    "train_data = data[:split_index]\n",
    "val_data = data[split_index:]\n",
    "\n",
    "print(\"Training set: \")\n",
    "print(f\"Start message: {train_data[0].split('<|separator|>')[0]}\")\n",
    "print(f\"End message: {train_data[-1].split('<|separator|>')[0]}\")\n",
    "\n",
    "print(\"\\nValidation set: \")\n",
    "print(f\"Start message: {val_data[0].split('<|separator|>')[0]}\")\n",
    "print(f\"End message: {val_data[-1].split('<|separator|>')[0]}\")"
   ]
  },
  {
   "cell_type": "code",
   "execution_count": 7,
   "id": "1cc8ea22",
   "metadata": {},
   "outputs": [],
   "source": [
    "train_data = tokenized_data[:split_index]\n",
    "val_data = tokenized_data[split_index:]"
   ]
  },
  {
   "cell_type": "code",
   "execution_count": 8,
   "id": "0b2f8376",
   "metadata": {},
   "outputs": [],
   "source": [
    "block_size = 256\n",
    "\n",
    "\n",
    "def combine_turns(data: list[list[int]], should_trim_long_sequences: bool) -> list[list[int]]:\n",
    "    combined_turns_data = []\n",
    "    for i in range(0, len(data)-1, 2):\n",
    "        you_message = data[i]\n",
    "        assistant_message = data[i+1]\n",
    "        if not you_message or not assistant_message:\n",
    "            continue\n",
    "\n",
    "        final_message = you_message + assistant_message\n",
    "        if len(final_message) > block_size and should_trim_long_sequences:\n",
    "            final_message = final_message[-block_size:]\n",
    "\n",
    "        combined_turns_data.append(final_message)\n",
    "    return combined_turns_data\n",
    "\n",
    "\n",
    "combined_train_data = combine_turns(\n",
    "    data=train_data,\n",
    "    should_trim_long_sequences=True\n",
    ")\n",
    "combined_val_data = combine_turns(\n",
    "    data=val_data,\n",
    "    should_trim_long_sequences=True\n",
    ")"
   ]
  },
  {
   "cell_type": "code",
   "execution_count": 9,
   "id": "3175bd69",
   "metadata": {},
   "outputs": [
    {
     "name": "stdout",
     "output_type": "stream",
     "text": [
      "Train data\n",
      "Length before: 3650\n",
      "Length after: 1825\n",
      "\n",
      "Validation data\n",
      "Length before: 194\n",
      "Length after: 97\n"
     ]
    }
   ],
   "source": [
    "print(\"Train data\")\n",
    "print(f\"Length before: {len(train_data)}\")\n",
    "print(f\"Length after: {len(combined_train_data)}\")\n",
    "\n",
    "print(\"\\nValidation data\")\n",
    "print(f\"Length before: {len(val_data)}\")\n",
    "print(f\"Length after: {len(combined_val_data)}\")"
   ]
  },
  {
   "cell_type": "code",
   "execution_count": 10,
   "id": "d205e9aa",
   "metadata": {},
   "outputs": [
    {
     "data": {
      "text/plain": [
       "(torch.Size([1825, 256]), torch.Size([97, 256]))"
      ]
     },
     "execution_count": 10,
     "metadata": {},
     "output_type": "execute_result"
    }
   ],
   "source": [
    "import torch\n",
    "torch.manual_seed(3647)\n",
    "\n",
    "# The token `<|padding|>` is used to mask the padding tokens.\n",
    "# Masking means the model will ignore these tokens during training.\n",
    "# In other words, the loss will not be calculated for these tokens.\n",
    "padding_token = tokenizer.special_tokens[\"<|padding|>\"]\n",
    "\n",
    "\n",
    "def apply_padding_to_data(data: list[list[int]], block_size: int, padding_token: int) -> torch.Tensor:\n",
    "    tensors = []\n",
    "    for i in range(len(data)):\n",
    "        tensor = torch.tensor(data[i])\n",
    "        padded_tensor = torch.nn.functional.pad(\n",
    "            input=tensor,\n",
    "            # for right padding:\n",
    "            pad=(0, block_size - len(tensor)),\n",
    "            # pad=(block_size - len(tensor), 0),\n",
    "            value=padding_token\n",
    "        )\n",
    "        tensors.append(padded_tensor)\n",
    "\n",
    "    return torch.stack(tensors)\n",
    "\n",
    "\n",
    "train_data_tensor = apply_padding_to_data(\n",
    "    data=combined_train_data,\n",
    "    block_size=block_size,\n",
    "    padding_token=padding_token\n",
    ")\n",
    "val_data_tensor = apply_padding_to_data(\n",
    "    data=combined_val_data,\n",
    "    block_size=block_size,\n",
    "    padding_token=padding_token\n",
    ")\n",
    "\n",
    "train_data_tensor.shape, val_data_tensor.shape"
   ]
  },
  {
   "cell_type": "code",
   "execution_count": 11,
   "id": "17f7870d",
   "metadata": {},
   "outputs": [
    {
     "data": {
      "text/plain": [
       "tensor([2492,   89,  260,   32, 2493,   32,  462,   44,   32,  104,  293,   32,\n",
       "         280,  101,   32,  266,   32,  345,  279,   63, 2494, 2492,   65,  115,\n",
       "         581,  304, 1167,   32, 2493,   32,  105,   39,  109,   32,  835,  101,\n",
       "          46,   32,  104,  293,   32,  343,  765,   32, 1759,   63, 2494, 2496,\n",
       "        2496, 2496, 2496, 2496, 2496, 2496, 2496, 2496, 2496, 2496, 2496, 2496,\n",
       "        2496, 2496, 2496, 2496, 2496, 2496, 2496, 2496, 2496, 2496, 2496, 2496,\n",
       "        2496, 2496, 2496, 2496, 2496, 2496, 2496, 2496, 2496, 2496, 2496, 2496,\n",
       "        2496, 2496, 2496, 2496, 2496, 2496, 2496, 2496, 2496, 2496, 2496, 2496,\n",
       "        2496, 2496, 2496, 2496, 2496, 2496, 2496, 2496, 2496, 2496, 2496, 2496,\n",
       "        2496, 2496, 2496, 2496, 2496, 2496, 2496, 2496, 2496, 2496, 2496, 2496,\n",
       "        2496, 2496, 2496, 2496, 2496, 2496, 2496, 2496, 2496, 2496, 2496, 2496,\n",
       "        2496, 2496, 2496, 2496, 2496, 2496, 2496, 2496, 2496, 2496, 2496, 2496,\n",
       "        2496, 2496, 2496, 2496, 2496, 2496, 2496, 2496, 2496, 2496, 2496, 2496,\n",
       "        2496, 2496, 2496, 2496, 2496, 2496, 2496, 2496, 2496, 2496, 2496, 2496,\n",
       "        2496, 2496, 2496, 2496, 2496, 2496, 2496, 2496, 2496, 2496, 2496, 2496,\n",
       "        2496, 2496, 2496, 2496, 2496, 2496, 2496, 2496, 2496, 2496, 2496, 2496,\n",
       "        2496, 2496, 2496, 2496, 2496, 2496, 2496, 2496, 2496, 2496, 2496, 2496,\n",
       "        2496, 2496, 2496, 2496, 2496, 2496, 2496, 2496, 2496, 2496, 2496, 2496,\n",
       "        2496, 2496, 2496, 2496, 2496, 2496, 2496, 2496, 2496, 2496, 2496, 2496,\n",
       "        2496, 2496, 2496, 2496, 2496, 2496, 2496, 2496, 2496, 2496, 2496, 2496,\n",
       "        2496, 2496, 2496, 2496, 2496, 2496, 2496, 2496, 2496, 2496, 2496, 2496,\n",
       "        2496, 2496, 2496, 2496])"
      ]
     },
     "execution_count": 11,
     "metadata": {},
     "output_type": "execute_result"
    }
   ],
   "source": [
    "train_data_tensor[0]"
   ]
  },
  {
   "cell_type": "code",
   "execution_count": 12,
   "id": "8c4fca14",
   "metadata": {},
   "outputs": [
    {
     "data": {
      "text/plain": [
       "tensor([2492,   89,  260,   32, 2493,   32, 1864,   32,  497,  323,  116,   32,\n",
       "         407,  116,   32,  363,   32, 1639,   32,  266,   32,  111,  676,   46,\n",
       "        2494, 2492,   65,  115,  581,  304, 1167,   32, 2493,   32, 1864,   32,\n",
       "         497,  323,  116,   32,  740,   32,  105,   39,  109,   32,  544,   46,\n",
       "        2494, 2496, 2496, 2496, 2496, 2496, 2496, 2496, 2496, 2496, 2496, 2496,\n",
       "        2496, 2496, 2496, 2496, 2496, 2496, 2496, 2496, 2496, 2496, 2496, 2496,\n",
       "        2496, 2496, 2496, 2496, 2496, 2496, 2496, 2496, 2496, 2496, 2496, 2496,\n",
       "        2496, 2496, 2496, 2496, 2496, 2496, 2496, 2496, 2496, 2496, 2496, 2496,\n",
       "        2496, 2496, 2496, 2496, 2496, 2496, 2496, 2496, 2496, 2496, 2496, 2496,\n",
       "        2496, 2496, 2496, 2496, 2496, 2496, 2496, 2496, 2496, 2496, 2496, 2496,\n",
       "        2496, 2496, 2496, 2496, 2496, 2496, 2496, 2496, 2496, 2496, 2496, 2496,\n",
       "        2496, 2496, 2496, 2496, 2496, 2496, 2496, 2496, 2496, 2496, 2496, 2496,\n",
       "        2496, 2496, 2496, 2496, 2496, 2496, 2496, 2496, 2496, 2496, 2496, 2496,\n",
       "        2496, 2496, 2496, 2496, 2496, 2496, 2496, 2496, 2496, 2496, 2496, 2496,\n",
       "        2496, 2496, 2496, 2496, 2496, 2496, 2496, 2496, 2496, 2496, 2496, 2496,\n",
       "        2496, 2496, 2496, 2496, 2496, 2496, 2496, 2496, 2496, 2496, 2496, 2496,\n",
       "        2496, 2496, 2496, 2496, 2496, 2496, 2496, 2496, 2496, 2496, 2496, 2496,\n",
       "        2496, 2496, 2496, 2496, 2496, 2496, 2496, 2496, 2496, 2496, 2496, 2496,\n",
       "        2496, 2496, 2496, 2496, 2496, 2496, 2496, 2496, 2496, 2496, 2496, 2496,\n",
       "        2496, 2496, 2496, 2496, 2496, 2496, 2496, 2496, 2496, 2496, 2496, 2496,\n",
       "        2496, 2496, 2496, 2496, 2496, 2496, 2496, 2496, 2496, 2496, 2496, 2496,\n",
       "        2496, 2496, 2496, 2496])"
      ]
     },
     "execution_count": 12,
     "metadata": {},
     "output_type": "execute_result"
    }
   ],
   "source": [
    "val_data_tensor[0]"
   ]
  },
  {
   "cell_type": "code",
   "execution_count": 14,
   "id": "4f8e963c",
   "metadata": {},
   "outputs": [
    {
     "data": {
      "text/plain": [
       "torch.Size([1825, 256])"
      ]
     },
     "execution_count": 14,
     "metadata": {},
     "output_type": "execute_result"
    }
   ],
   "source": [
    "train_data_tensor.shape"
   ]
  },
  {
   "cell_type": "code",
   "execution_count": 19,
   "id": "66a190dd",
   "metadata": {},
   "outputs": [],
   "source": [
    "from typing import Tuple\n",
    "from torch.utils.data import Dataset, DataLoader\n",
    "\n",
    "\n",
    "class FineTuningDataset(Dataset):\n",
    "    def __init__(self, data: torch.Tensor, device: torch.device, padding_token: int):\n",
    "        self.data = data  # shape: (num_samples, block_size)\n",
    "        self.device = device\n",
    "        self.padding_token = padding_token\n",
    "\n",
    "    def __len__(self) -> int:\n",
    "        return len(self.data)\n",
    "\n",
    "    def __getitem__(self, index: int) -> Tuple[torch.Tensor, torch.Tensor]:\n",
    "        sample = self.data[index]\n",
    "        x = sample.to(self.device)\n",
    "        y = sample[1:].to(self.device)\n",
    "        padding_tensor = torch.tensor([self.padding_token], device=self.device)\n",
    "        y = torch.cat((y, padding_tensor))\n",
    "        return x, y\n",
    "\n",
    "\n",
    "batch_size = 32\n",
    "device = torch.device(\"cuda\" if torch.cuda.is_available() else \"cpu\")\n",
    "\n",
    "train_dataset = FineTuningDataset(\n",
    "    data=train_data_tensor,\n",
    "    device=device,\n",
    "    padding_token=padding_token\n",
    ")\n",
    "train_loader = DataLoader(\n",
    "    dataset=train_dataset,\n",
    "    batch_size=batch_size,\n",
    "    shuffle=True\n",
    ")\n",
    "\n",
    "val_dataset = FineTuningDataset(\n",
    "    data=val_data_tensor,\n",
    "    device=device,\n",
    "    padding_token=padding_token\n",
    ")\n",
    "val_loader = DataLoader(\n",
    "    dataset=val_dataset,\n",
    "    batch_size=batch_size,\n",
    "    shuffle=False\n",
    ")"
   ]
  },
  {
   "cell_type": "code",
   "execution_count": 20,
   "id": "4b2e3ac8",
   "metadata": {},
   "outputs": [
    {
     "data": {
      "text/plain": [
       "(torch.Size([32, 256]), torch.Size([32, 256]))"
      ]
     },
     "execution_count": 20,
     "metadata": {},
     "output_type": "execute_result"
    }
   ],
   "source": [
    "x, y = next(iter(train_loader))\n",
    "x.shape, y.shape"
   ]
  },
  {
   "cell_type": "code",
   "execution_count": 21,
   "id": "e341d4a7",
   "metadata": {},
   "outputs": [
    {
     "name": "stdout",
     "output_type": "stream",
     "text": [
      "0.906694 M parameters\n"
     ]
    }
   ],
   "source": [
    "from transformer.model import GPTLanguageModel\n",
    "\n",
    "block_size = 512\n",
    "n_embd = 128\n",
    "n_head = 8\n",
    "n_layer = 1\n",
    "dropout = 0.2\n",
    "batch_size = 32\n",
    "vocab_size = get_vocab_size(tokenizer)\n",
    "\n",
    "model = GPTLanguageModel(\n",
    "    vocab_size=vocab_size,\n",
    "    block_size=block_size,\n",
    "    n_embd=n_embd,\n",
    "    n_head=n_head,\n",
    "    n_layer=n_layer,\n",
    "    dropout=dropout,\n",
    "    device=device,\n",
    "    ignore_index=tokenizer.special_tokens[\"<|padding|>\"],\n",
    ").to(device)\n",
    "model = torch.compile(model)\n",
    "\n",
    "print(sum(p.numel() for p in model.parameters())/1e6, 'M parameters')"
   ]
  },
  {
   "cell_type": "code",
   "execution_count": 22,
   "id": "779bd075",
   "metadata": {},
   "outputs": [
    {
     "data": {
      "text/plain": [
       "<All keys matched successfully>"
      ]
     },
     "execution_count": 22,
     "metadata": {},
     "output_type": "execute_result"
    }
   ],
   "source": [
    "checkpoint_path = \"../Data/pre_training/run_1/checkpoint_2.pth\"\n",
    "checkpoint = torch.load(\n",
    "    checkpoint_path, weights_only=True, map_location=device)\n",
    "model_state_dict = checkpoint[\"model_state_dict\"]\n",
    "model.load_state_dict(model_state_dict)"
   ]
  },
  {
   "cell_type": "code",
   "execution_count": 23,
   "id": "1288a953",
   "metadata": {},
   "outputs": [
    {
     "name": "stdout",
     "output_type": "stream",
     "text": [
      "All parameters: 0.94M | Trainable parameters: 0.03M | Trainable %: 3.25%\n"
     ]
    }
   ],
   "source": [
    "from transformer.lora import get_lora_model, print_trainable_parameters\n",
    "\n",
    "lora_model = get_lora_model(\n",
    "    model=model,\n",
    "    lora_config={\n",
    "        \"rank\": 4,\n",
    "        \"alpha\": 8,\n",
    "    },\n",
    "    device=device,\n",
    ")\n",
    "print_trainable_parameters(lora_model)"
   ]
  },
  {
   "cell_type": "code",
   "execution_count": 24,
   "id": "28e39907",
   "metadata": {},
   "outputs": [
    {
     "name": "stdout",
     "output_type": "stream",
     "text": [
      "hi renow neither do that. whe.\" did it happens when a puppy. n. and it's not even in heaves. then what? of it. you or two l. whiof it. he comes day. rain? for the bse of ur gookay, my launhappy together. i don't think about it\u0003two and say? i believe order is the score. the worse back uphere it going to be a car isn't our students to graduate. but we could <|unk|>d. hp kniell, need a t. well, you can't win if you \n"
     ]
    }
   ],
   "source": [
    "input_tokens = tokenizer.encode(\"hi \", allowed_special=\"all\")\n",
    "input_tokens = torch.tensor(\n",
    "    input_tokens, dtype=torch.long).unsqueeze(0).to(device)\n",
    "\n",
    "model.eval()\n",
    "with torch.no_grad():\n",
    "    output = model.generate(input_tokens=input_tokens, max_new_tokens=100)\n",
    "\n",
    "print(tokenizer.decode(output[0].tolist()))"
   ]
  },
  {
   "cell_type": "code",
   "execution_count": 25,
   "id": "187cf26c",
   "metadata": {},
   "outputs": [],
   "source": [
    "import os\n",
    "import warnings\n",
    "\n",
    "# --- Disable Triton checks ---\n",
    "os.environ[\"TORCHINDUCTOR_DISABLE_TRITON\"] = \"1\"\n",
    "\n",
    "# --- Suppress TorchDynamo / Inductor warnings ---\n",
    "warnings.filterwarnings(\"ignore\", category=UserWarning)\n",
    "\n",
    "# Optional: fully disable TorchDynamo verbose logging\n",
    "import torch._dynamo as dynamo\n",
    "dynamo.reset()\n",
    "dynamo.config.verbose = 0\n",
    "dynamo.config.suppress_errors = True"
   ]
  },
  {
   "cell_type": "code",
   "execution_count": 26,
   "id": "bc3e5d75",
   "metadata": {},
   "outputs": [],
   "source": [
    "from typing import Dict\n",
    "\n",
    "\n",
    "@torch.no_grad()\n",
    "def estimate_loss(\n",
    "    model: torch.nn.Module,\n",
    "    train_loader: DataLoader,\n",
    "    val_loader: DataLoader,\n",
    ") -> Dict[str, float]:\n",
    "    output = {}\n",
    "    model.eval()\n",
    "\n",
    "    for split, loader in [('train', train_loader), ('val', val_loader)]:\n",
    "        losses = []\n",
    "        for x, y in loader:\n",
    "            with torch.no_grad():\n",
    "                _, loss = model(x, y)\n",
    "            losses.append(loss.item())\n",
    "        output[split] = sum(losses) / len(losses)\n",
    "\n",
    "    model.train()\n",
    "    return output"
   ]
  },
  {
   "cell_type": "code",
   "execution_count": 27,
   "id": "f04071c7",
   "metadata": {},
   "outputs": [],
   "source": [
    "def save_checkpoint(\n",
    "    model: GPTLanguageModel,\n",
    "    optimizer: torch.optim.Optimizer,\n",
    "    epoch: int,\n",
    "    loss: float,\n",
    "    file_path: str = \"checkpoint.pth\"\n",
    ") -> None:\n",
    "    checkpoint = {\n",
    "        'epoch': epoch,\n",
    "        'model_state_dict': model.state_dict(),\n",
    "        'optimizer_state_dict': optimizer.state_dict(),\n",
    "        'loss': loss\n",
    "    }\n",
    "    torch.save(checkpoint, file_path)"
   ]
  },
  {
   "cell_type": "code",
   "execution_count": 29,
   "id": "dde5fb8f",
   "metadata": {},
   "outputs": [
    {
     "name": "stdout",
     "output_type": "stream",
     "text": [
      "iteration 0 / step 0: train loss 2.9426, val loss 3.1120\n",
      "iteration 0 / step 10: train loss 2.7925, val loss 2.9760\n",
      "iteration 0 / step 20: train loss 2.6900, val loss 2.8839\n",
      "iteration 0 / step 30: train loss 2.6124, val loss 2.7997\n",
      "iteration 0 / step 40: train loss 2.5427, val loss 2.7369\n",
      "iteration 0 / step 50: train loss 2.5156, val loss 2.6986\n",
      "iteration 0 / step 57: train loss 2.4887, val loss 2.6706\n",
      "iteration 1 / step 0: train loss 2.4917, val loss 2.6739\n",
      "iteration 1 / step 10: train loss 2.4496, val loss 2.6500\n",
      "iteration 1 / step 20: train loss 2.4447, val loss 2.6201\n",
      "iteration 1 / step 30: train loss 2.4078, val loss 2.5964\n",
      "iteration 1 / step 40: train loss 2.3839, val loss 2.5660\n",
      "iteration 1 / step 50: train loss 2.3778, val loss 2.5554\n",
      "iteration 1 / step 57: train loss 2.3643, val loss 2.5702\n",
      "iteration 2 / step 0: train loss 2.3961, val loss 2.6095\n",
      "iteration 2 / step 10: train loss 2.3705, val loss 2.5842\n",
      "iteration 2 / step 20: train loss 2.3314, val loss 2.5576\n",
      "iteration 2 / step 30: train loss 2.3386, val loss 2.5553\n",
      "iteration 2 / step 40: train loss 2.3304, val loss 2.5551\n",
      "iteration 2 / step 50: train loss 2.3041, val loss 2.5302\n",
      "iteration 2 / step 57: train loss 2.3325, val loss 2.5372\n",
      "iteration 3 / step 0: train loss 2.3724, val loss 2.6014\n",
      "iteration 3 / step 10: train loss 2.3494, val loss 2.5751\n",
      "iteration 3 / step 20: train loss 2.3003, val loss 2.5267\n",
      "iteration 3 / step 30: train loss 2.2745, val loss 2.4944\n",
      "iteration 3 / step 40: train loss 2.2871, val loss 2.4918\n",
      "iteration 3 / step 50: train loss 2.2490, val loss 2.4851\n",
      "iteration 3 / step 57: train loss 2.2570, val loss 2.4935\n",
      "iteration 4 / step 0: train loss 2.2600, val loss 2.4968\n",
      "iteration 4 / step 10: train loss 2.2769, val loss 2.5180\n",
      "iteration 4 / step 20: train loss 2.2734, val loss 2.4935\n",
      "iteration 4 / step 30: train loss 2.2548, val loss 2.4886\n",
      "iteration 4 / step 40: train loss 2.2336, val loss 2.4715\n",
      "iteration 4 / step 50: train loss 2.2234, val loss 2.4689\n",
      "iteration 4 / step 57: train loss 2.2405, val loss 2.4705\n",
      "iteration 5 / step 0: train loss 2.2693, val loss 2.4996\n",
      "iteration 5 / step 10: train loss 2.2536, val loss 2.4904\n",
      "iteration 5 / step 20: train loss 2.2176, val loss 2.4680\n",
      "iteration 5 / step 30: train loss 2.2527, val loss 2.4596\n",
      "iteration 5 / step 40: train loss 2.2259, val loss 2.4452\n",
      "iteration 5 / step 50: train loss 2.2126, val loss 2.4331\n",
      "iteration 5 / step 57: train loss 2.2092, val loss 2.4618\n",
      "iteration 6 / step 0: train loss 2.2084, val loss 2.4628\n",
      "iteration 6 / step 10: train loss 2.2113, val loss 2.4542\n",
      "iteration 6 / step 20: train loss 2.2244, val loss 2.4333\n",
      "iteration 6 / step 30: train loss 2.2170, val loss 2.4348\n",
      "iteration 6 / step 40: train loss 2.1907, val loss 2.4115\n",
      "iteration 6 / step 50: train loss 2.1815, val loss 2.3989\n",
      "iteration 6 / step 57: train loss 2.1943, val loss 2.4088\n",
      "iteration 7 / step 0: train loss 2.1956, val loss 2.4306\n",
      "iteration 7 / step 10: train loss 2.1929, val loss 2.4400\n",
      "iteration 7 / step 20: train loss 2.1824, val loss 2.4292\n",
      "iteration 7 / step 30: train loss 2.1778, val loss 2.4145\n",
      "iteration 7 / step 40: train loss 2.1857, val loss 2.4081\n",
      "iteration 7 / step 50: train loss 2.1763, val loss 2.4201\n",
      "iteration 7 / step 57: train loss 2.1671, val loss 2.4271\n",
      "iteration 8 / step 0: train loss 2.2208, val loss 2.4731\n",
      "iteration 8 / step 10: train loss 2.1999, val loss 2.4600\n",
      "iteration 8 / step 20: train loss 2.1958, val loss 2.4308\n",
      "iteration 8 / step 30: train loss 2.1949, val loss 2.4317\n",
      "iteration 8 / step 40: train loss 2.1763, val loss 2.4144\n",
      "iteration 8 / step 50: train loss 2.1599, val loss 2.4104\n",
      "iteration 8 / step 57: train loss 2.1731, val loss 2.4143\n",
      "iteration 9 / step 0: train loss 2.1720, val loss 2.4301\n",
      "iteration 9 / step 10: train loss 2.1880, val loss 2.4201\n",
      "iteration 9 / step 20: train loss 2.1732, val loss 2.4316\n",
      "iteration 9 / step 30: train loss 2.1595, val loss 2.3991\n",
      "iteration 9 / step 40: train loss 2.1697, val loss 2.4128\n",
      "iteration 9 / step 50: train loss 2.1516, val loss 2.3878\n",
      "iteration 9 / step 57: train loss 2.1617, val loss 2.4109\n"
     ]
    }
   ],
   "source": [
    "max_iters = 10\n",
    "eval_interval = 10\n",
    "learning_rate = 1e-4\n",
    "\n",
    "optimizer = torch.optim.AdamW(lora_model.parameters(), lr=learning_rate)\n",
    "train_losses = []\n",
    "val_losses = []\n",
    "\n",
    "for iteration in range(max_iters):\n",
    "    for batch_idx, (x_batch, y_batch) in enumerate(train_loader):\n",
    "        # Evaluation\n",
    "        if batch_idx % eval_interval == 0 or batch_idx == len(train_loader) - 1:\n",
    "            losses = estimate_loss(\n",
    "                model=lora_model,\n",
    "                train_loader=train_loader,\n",
    "                val_loader=val_loader,\n",
    "            )\n",
    "            train_losses.append(losses['train'])\n",
    "            val_losses.append(losses['val'])\n",
    "\n",
    "            print(\n",
    "                f\"iteration {iteration} / step {batch_idx}: \"\n",
    "                f\"train loss {losses['train']:.4f}, \"\n",
    "                f\"val loss {losses['val']:.4f}\"\n",
    "            )\n",
    "\n",
    "        # Training step\n",
    "        logits, loss = lora_model(x_batch, y_batch)\n",
    "        optimizer.zero_grad(set_to_none=True)\n",
    "        loss.backward()\n",
    "        optimizer.step()\n",
    "\n",
    "    # Save checkpoint\n",
    "    save_checkpoint(\n",
    "        model=lora_model,\n",
    "        optimizer=optimizer,\n",
    "        epoch=iteration,\n",
    "        loss=loss.item(),\n",
    "        file_path=f\"../Data/fine_tuning/run_3/checkpoint_{iteration}.pth\"\n",
    "    )"
   ]
  },
  {
   "cell_type": "code",
   "execution_count": 30,
   "id": "393fd9c7",
   "metadata": {},
   "outputs": [
    {
     "data": {
      "image/png": "[encoded data removed]",
      "text/plain": [
       "<Figure size 1000x500 with 1 Axes>"
      ]
     },
     "metadata": {},
     "output_type": "display_data"
    }
   ],
   "source": [
    "import matplotlib.pyplot as plt\n",
    "\n",
    "plt.figure(figsize=(10, 5))\n",
    "plt.plot(train_losses, label=\"Train Loss\")\n",
    "plt.plot(val_losses, label=\"Validation Loss\")\n",
    "plt.xlabel(\"Evaluation Step\")\n",
    "plt.ylabel(\"Loss\")\n",
    "plt.title(\"Training and Validation Loss Over Time\")\n",
    "plt.legend()\n",
    "plt.grid()\n",
    "plt.show()"
   ]
  },
  {
   "cell_type": "code",
   "execution_count": 48,
   "id": "e1647a37",
   "metadata": {},
   "outputs": [
    {
     "name": "stdout",
     "output_type": "stream",
     "text": [
      "You: hi what are doing\n",
      "Assistant:  oce ase sastant fotter taxt haved to minlltem na shou work, kid waitse\n"
     ]
    }
   ],
   "source": [
    "def get_input_tokens(message: str) -> torch.Tensor:\n",
    "    input_tokens = tokenizer.encode(\n",
    "        f\"<|startoftext|>{message}<|separator|>\", allowed_special=\"all\")\n",
    "    input_tokens = torch.tensor(\n",
    "        input_tokens, dtype=torch.long).unsqueeze(0).to(device)\n",
    "    return input_tokens\n",
    "\n",
    "\n",
    "user_message = \"hi what are doing\"\n",
    "input_tokens = get_input_tokens(message=user_message)\n",
    "model_answer = \"\"\n",
    "\n",
    "lora_model.eval()\n",
    "while True:\n",
    "    output_tokens = lora_model.generate(\n",
    "        input_tokens=input_tokens, max_new_tokens=1)\n",
    "    last_generated_token = output_tokens[0, -1].item()\n",
    "    if last_generated_token == tokenizer.special_tokens[\"<|endoftext|>\"]:\n",
    "        break\n",
    "\n",
    "    input_tokens = torch.cat((input_tokens, output_tokens[:, -1:]), dim=1)\n",
    "    model_answer += tokenizer.decode([last_generated_token])\n",
    "\n",
    "    if len(output_tokens[0]) > block_size:\n",
    "        input_tokens = input_tokens[:, -block_size:]\n",
    "\n",
    "print(f\"You: {user_message}\")\n",
    "print(f\"Assistant: {model_answer}\")"
   ]
  },
  {
   "cell_type": "code",
   "execution_count": null,
   "id": "0f1ab64e",
   "metadata": {},
   "outputs": [],
   "source": []
  },
  {
   "cell_type": "code",
   "execution_count": null,
   "id": "76fff99c",
   "metadata": {},
   "outputs": [],
   "source": []
  },
  {
   "cell_type": "code",
   "execution_count": null,
   "id": "170951d4",
   "metadata": {},
   "outputs": [],
   "source": []
  }
 ],
 "metadata": {
  "kernelspec": {
   "display_name": "Python 3",
   "language": "python",
   "name": "python3"
  },
  "language_info": {
   "codemirror_mode": {
    "name": "ipython",
    "version": 3
   },
   "file_extension": ".py",
   "mimetype": "text/x-python",
   "name": "python",
   "nbconvert_exporter": "python",
   "pygments_lexer": "ipython3",
   "version": "3.10.0"
  }
 },
 "nbformat": 4,
 "nbformat_minor": 5
}
