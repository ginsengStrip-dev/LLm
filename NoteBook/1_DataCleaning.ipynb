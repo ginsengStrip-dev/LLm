{
 "cells": [
  {
   "cell_type": "code",
   "execution_count": 11,
   "id": "118a87c3",
   "metadata": {},
   "outputs": [],
   "source": [
    "import re\n",
    "import pandas as pd\n",
    "\n",
    "\n",
    "def read_whatsapp_chat(file_path: str) -> pd.DataFrame:\n",
    "    # Define filtering patterns\n",
    "    encryption_message = \"Messages and calls are end-to-end encrypted. Only people in this chat can read, listen to, or share them. Learn more.\"\n",
    "    media_pattern = \"<Media omitted>\"\n",
    "    email_pattern = r'[A-Za-z0-9._%+-]+@[A-Za-z0-9.-]+\\.[A-Z|a-z]{2,}'\n",
    "    url_pattern = r'http[s]?://(?:[a-zA-Z]|[0-9]|[$-_@.&+]|[!*\\(\\),]|(?:%[0-9a-fA-F][0-9a-fA-F]))+'\n",
    "    edited_message = \"<This message was edited>\"\n",
    "    deleted_message = \"You deleted this message\"\n",
    "    null_message = \"null\"\n",
    "    created_group_message = \"created group\"\n",
    "    added_you_to_group_message = \"added you\"\n",
    "    tagging_pattern = r'@[\\w]+'\n",
    "\n",
    "    with open(file_path, 'r', encoding='utf-8') as f:\n",
    "        lines = f.readlines()\n",
    "\n",
    "    # Apply filters to remove unwanted lines\n",
    "    filtered_lines = []\n",
    "    for line in lines:\n",
    "        if (\n",
    "            encryption_message not in line and\n",
    "            deleted_message not in line and\n",
    "            null_message != line.split(\" \")[-1] and\n",
    "            media_pattern not in line and\n",
    "            created_group_message not in line and\n",
    "            added_you_to_group_message not in line and\n",
    "            not re.search(email_pattern, line) and\n",
    "            not re.search(url_pattern, line)\n",
    "        ):\n",
    "            line = line.replace(edited_message, \"\").strip()\n",
    "            line = re.sub(tagging_pattern, \"\", line).strip()\n",
    "            filtered_lines.append(line)\n",
    "\n",
    "    # Normalize content:\n",
    "    content = '\\n'.join(filtered_lines)\n",
    "    # Replace narrow no-break space (iOS specific)\n",
    "    content = content.replace('\\u202f', ' ')\n",
    "    # Remove square brackets if they surround the timestamp (only for iOS)\n",
    "    content = re.sub(\n",
    "        r'\\[(\\d{1,2}/\\d{1,2}/\\d{2,4}, \\d{1,2}:\\d{2}(?::\\d{2})?\\s?[APap][Mm])\\]',\n",
    "        r'\\1',\n",
    "        content\n",
    "    )\n",
    "    # Remove LRM and RLM characters (Left-to-Right Mark and Right-to-Left Mark)\n",
    "    content = content.replace('\\u200E', '').replace('\\u200F', '')\n",
    "\n",
    "    # Updated regex pattern to match both iOS and Android WhatsApp exports.\n",
    "    pattern = r'(\\d{1,2}/\\d{1,2}/\\d{2,4}, \\d{1,2}:\\d{2}(?::\\d{2})?(?:\\s?[APap][Mm])?)\\s?(?:-|\\~)?\\s?(.*?): (.*?)(?=\\n\\d{1,2}/\\d{1,2}/\\d{2,4}, \\d{1,2}:\\d{2}|$)'\n",
    "    messages = re.findall(pattern, content, re.DOTALL)\n",
    "    df = pd.DataFrame(messages, columns=['timestamp', 'sender', 'message'])\n",
    "\n",
    "    timestamps = []\n",
    "    for timestamp in df['timestamp']:\n",
    "        try:\n",
    "            timestamp = pd.to_datetime(\n",
    "                timestamp, format='mixed', errors='coerce')\n",
    "        except Exception as e:\n",
    "            print(f\"Error parsing timestamp '{timestamp}': {e}\")\n",
    "            timestamp = pd.NaT\n",
    "        timestamps.append(timestamp)\n",
    "\n",
    "    df['timestamp'] = timestamps\n",
    "    return df"
   ]
  },
  {
   "cell_type": "code",
   "execution_count": 12,
   "id": "324bef24",
   "metadata": {},
   "outputs": [],
   "source": [
    "from pathlib import Path\n",
    "\n",
    "all_chats = {}\n",
    "data_directory = Path(\"../Data/\")\n",
    "for file in data_directory.glob('*.txt'):\n",
    "    file_name = file.stem\n",
    "    all_chats[file_name] = read_whatsapp_chat(file)"
   ]
  },
  {
   "cell_type": "code",
   "execution_count": 13,
   "id": "cce1cdfc",
   "metadata": {},
   "outputs": [
    {
     "data": {
      "text/plain": [
       "130232"
      ]
     },
     "execution_count": 13,
     "metadata": {},
     "output_type": "execute_result"
    }
   ],
   "source": [
    "text_sequence = \"\"\n",
    "for file_name in all_chats.keys():\n",
    "    text_sequence += \" \".join(all_chats[file_name]['message'].values)\n",
    "\n",
    "len(text_sequence)"
   ]
  },
  {
   "cell_type": "code",
   "execution_count": 14,
   "id": "d51f5412",
   "metadata": {},
   "outputs": [],
   "source": [
    "with open(\"../Data/combined_text.txt\", \"w\", encoding=\"utf-8\") as f:\n",
    "    f.write(text_sequence)"
   ]
  },
  {
   "cell_type": "code",
   "execution_count": 10,
   "id": "3c75a84a",
   "metadata": {},
   "outputs": [
    {
     "name": "stdout",
     "output_type": "stream",
     "text": [
      "✅ Done! Cleaned recipes saved in recipes_cleaned.txt\n"
     ]
    }
   ],
   "source": [
    "import re\n",
    "\n",
    "def clean_recipes(text):\n",
    "    # Remove numbering like \"1. \" at the start of a line\n",
    "    text = re.sub(r'^\\d+\\.\\s*', '', text, flags=re.MULTILINE)\n",
    "\n",
    "    cleaned_lines = []\n",
    "    for block in text.strip().split(\"\\n\\n\"):   # each recipe block separated by blank line\n",
    "        lines = block.strip().split(\"\\n\", 1)   # first line = title, rest = instructions\n",
    "\n",
    "        title = lines[0].strip().rstrip(\":\")   # recipe title\n",
    "        instructions = lines[1].replace(\"\\n\", \" \").strip() if len(lines) > 1 else \"\"\n",
    "\n",
    "        instructions = instructions.rstrip(\":\").strip()  # remove stray trailing colons\n",
    "\n",
    "        cleaned_lines.append(f\"{title}: {instructions}\")\n",
    "\n",
    "    return \"\\n\".join(cleaned_lines)\n",
    "\n",
    "\n",
    "# -------- Read and Write Files --------\n",
    "with open(\"../Data/dataset.txt\", \"r\", encoding=\"utf-8\") as f:\n",
    "    raw_text = f.read()\n",
    "\n",
    "cleaned_text = clean_recipes(raw_text)\n",
    "\n",
    "with open(\"recipes_cleaned.txt\", \"w\", encoding=\"utf-8\") as f:\n",
    "    f.write(cleaned_text)\n",
    "\n",
    "print(\"✅ Done! Cleaned recipes saved in recipes_cleaned.txt\")\n"
   ]
  },
  {
   "cell_type": "code",
   "execution_count": null,
   "id": "60f5fdfa",
   "metadata": {},
   "outputs": [],
   "source": []
  }
 ],
 "metadata": {
  "kernelspec": {
   "display_name": "Python 3",
   "language": "python",
   "name": "python3"
  },
  "language_info": {
   "codemirror_mode": {
    "name": "ipython",
    "version": 3
   },
   "file_extension": ".py",
   "mimetype": "text/x-python",
   "name": "python",
   "nbconvert_exporter": "python",
   "pygments_lexer": "ipython3",
   "version": "3.10.0"
  }
 },
 "nbformat": 4,
 "nbformat_minor": 5
}
